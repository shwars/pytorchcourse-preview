{
 "metadata": {
  "language_info": {
   "codemirror_mode": {
    "name": "ipython",
    "version": 3
   },
   "file_extension": ".py",
   "mimetype": "text/x-python",
   "name": "python",
   "nbconvert_exporter": "python",
   "pygments_lexer": "ipython3",
   "version": "3.8.5-final"
  },
  "orig_nbformat": 2,
  "kernelspec": {
   "name": "python3",
   "display_name": "Python 3",
   "language": "python"
  }
 },
 "nbformat": 4,
 "nbformat_minor": 2,
 "cells": [
  {
   "source": [
    "# Introduction to Image Data\n",
    "\n",
    "In computer vision, we normally solve one of the following problems:\n",
    "\n",
    "* **Image Classification** is the simplest task, when we need to classify an image into one of many pre-defined categories, for example, distinguish a cat from a dog on a photograph, or recognize a handwritten digit.\n",
    "\n",
    "* **Object Detection** is more difficult task, in which we need to find known objects on the picture and localize them, i.e. return the **bounding box** for each of recognized objects.\n",
    "\n",
    "* **Segmentation** is similar to object detection, but instead of giving bounding box we need to return an exact pixel map outlining each of the recognized objects.  \n",
    "\n",
    "![](https://i.stack.imgur.com/mFBCV.png)\n",
    "\n",
    "Image taken from [CS224d Stanford Course](http://cs224d.stanford.edu/index.html)\n",
    "\n",
    "## Images as Tensors\n",
    "\n",
    "Computer Vision works with Images. As you probably know, images consist of pixels, so they can be thought of as a rectangular collection (array) of pixels.\n",
    "\n",
    "In the first part of this tutorial, we will deal with handwritten digit recognition. We will use the MNIST dataset, which consists of grayscale images of handwritten digits, 28x28 pixels. Each image can be represented as 28x28 array, and elements of this array would denote intensity of corresponding pixel - either in the scale of range 0 to 1 (in which case floating point numbers are used), or 0 to 255 (integers). A popular python library called `numpy` is often used with computer vision tasks, because it allows to operate with multidimensional arrays effectively.\n",
    "\n",
    "To deal with color images, we need some way to represent colors. In most cases, we represent each pixel by 3 intensity values, corresponding to Red (R), Green (G) and Blue (B) components. This colour encoding is called RGB, and thus colour image of size $W\\times H$ will be represented as an array of size $3\\times H\\times W$ (sometimes the order of components might be different, but the idea is the same).\n",
    "\n",
    "Multi-dimentional arrays are also called **tensors**. Using tensors to represent images also has an advantage, because we can use an extra dimension to store a sequence of images. For example, to represent a video fragment consisting of 200 frames with 800x600 dimension, we may use the tensor of size 200x3x600x800.\n",
    "\n",
    "## Import Packages and Load MNIST Dataset\n"
   ],
   "cell_type": "markdown",
   "metadata": {}
  },
  {
   "cell_type": "code",
   "execution_count": 2,
   "metadata": {},
   "outputs": [
    {
     "output_type": "error",
     "ename": "ModuleNotFoundError",
     "evalue": "No module named 'torchvision'",
     "traceback": [
      "\u001b[1;31m---------------------------------------------------------------------------\u001b[0m",
      "\u001b[1;31mModuleNotFoundError\u001b[0m                       Traceback (most recent call last)",
      "\u001b[1;32m<ipython-input-2-e4dee344ef06>\u001b[0m in \u001b[0;36m<module>\u001b[1;34m\u001b[0m\n\u001b[0;32m      1\u001b[0m \u001b[1;31m#Import the packages needed.\u001b[0m\u001b[1;33m\u001b[0m\u001b[1;33m\u001b[0m\u001b[1;33m\u001b[0m\u001b[0m\n\u001b[0;32m      2\u001b[0m \u001b[1;32mimport\u001b[0m \u001b[0mtorch\u001b[0m\u001b[1;33m\u001b[0m\u001b[1;33m\u001b[0m\u001b[0m\n\u001b[1;32m----> 3\u001b[1;33m \u001b[1;32mimport\u001b[0m \u001b[0mtorchvision\u001b[0m\u001b[1;33m\u001b[0m\u001b[1;33m\u001b[0m\u001b[0m\n\u001b[0m\u001b[0;32m      4\u001b[0m \u001b[1;32mimport\u001b[0m \u001b[0mmatplotlib\u001b[0m\u001b[1;33m.\u001b[0m\u001b[0mpyplot\u001b[0m \u001b[1;32mas\u001b[0m \u001b[0mplt\u001b[0m\u001b[1;33m\u001b[0m\u001b[1;33m\u001b[0m\u001b[0m\n\u001b[0;32m      5\u001b[0m \u001b[1;32mimport\u001b[0m \u001b[0mnumpy\u001b[0m \u001b[1;32mas\u001b[0m \u001b[0mnp\u001b[0m\u001b[1;33m\u001b[0m\u001b[1;33m\u001b[0m\u001b[0m\n",
      "\u001b[1;31mModuleNotFoundError\u001b[0m: No module named 'torchvision'"
     ]
    }
   ],
   "source": [
    "#Import the packages needed.\n",
    "import torch\n",
    "import torchvision\n",
    "import matplotlib.pyplot as plt\n",
    "import numpy as np"
   ]
  },
  {
   "cell_type": "code",
   "execution_count": 3,
   "metadata": {},
   "outputs": [
    {
     "output_type": "error",
     "ename": "ModuleNotFoundError",
     "evalue": "No module named 'torchvision'",
     "traceback": [
      "\u001b[1;31m---------------------------------------------------------------------------\u001b[0m",
      "\u001b[1;31mModuleNotFoundError\u001b[0m                       Traceback (most recent call last)",
      "\u001b[1;32m<ipython-input-3-4650f49e65e8>\u001b[0m in \u001b[0;36m<module>\u001b[1;34m\u001b[0m\n\u001b[1;32m----> 1\u001b[1;33m \u001b[1;32mfrom\u001b[0m \u001b[0mtorchvision\u001b[0m\u001b[1;33m.\u001b[0m\u001b[0mtransforms\u001b[0m \u001b[1;32mimport\u001b[0m \u001b[0mToTensor\u001b[0m\u001b[1;33m\u001b[0m\u001b[1;33m\u001b[0m\u001b[0m\n\u001b[0m\u001b[0;32m      2\u001b[0m \u001b[1;33m\u001b[0m\u001b[0m\n\u001b[0;32m      3\u001b[0m data_train = torchvision.datasets.MNIST('./data',\n\u001b[0;32m      4\u001b[0m         download=True,train=True,transform=ToTensor())\n\u001b[0;32m      5\u001b[0m data_test = torchvision.datasets.MNIST('./data',\n",
      "\u001b[1;31mModuleNotFoundError\u001b[0m: No module named 'torchvision'"
     ]
    }
   ],
   "source": [
    "from torchvision.transforms import ToTensor\n",
    "\n",
    "data_train = torchvision.datasets.MNIST('./data',\n",
    "        download=True,train=True,transform=ToTensor())\n",
    "data_test = torchvision.datasets.MNIST('./data',\n",
    "        download=True,train=False,transform=ToTensor())"
   ]
  },
  {
   "source": [
    "You can experiment with many built in datasets since  PyTorch has a [number of datasets](https://pytorch.org/docs/stable/torchvision/datasets.html) easily available right from the library.  Here we are using the `torchvison.datasets.MNIST`, which returns the data in the form of PIL images and then we call `ToTensor()` to convert the data to tensors.\n",
    "\n",
    "## Visualize the Digits Dataset\n",
    "Now that we have downloaded the dataset we can visualize some of the digits"
   ],
   "cell_type": "markdown",
   "metadata": {}
  },
  {
   "cell_type": "code",
   "execution_count": 16,
   "metadata": {},
   "outputs": [
    {
     "output_type": "display_data",
     "data": {
      "text/plain": "<Figure size 432x288 with 7 Axes>",
      "image/svg+xml": "<?xml version=\"1.0\" encoding=\"utf-8\" standalone=\"no\"?>\r\n<!DOCTYPE svg PUBLIC \"-//W3C//DTD SVG 1.1//EN\"\r\n  \"http://www.w3.org/Graphics/SVG/1.1/DTD/svg11.dtd\">\r\n<!-- Created with matplotlib (https://matplotlib.org/) -->\r\n<svg height=\"70.347393pt\" version=\"1.1\" viewBox=\"0 0 349.2 70.347393\" width=\"349.2pt\" xmlns=\"http://www.w3.org/2000/svg\" xmlns:xlink=\"http://www.w3.org/1999/xlink\">\r\n <defs>\r\n  <style type=\"text/css\">\r\n*{stroke-linecap:butt;stroke-linejoin:round;white-space:pre;}\r\n  </style>\r\n </defs>\r\n <g id=\"figure_1\">\r\n  <g id=\"patch_1\">\r\n   <path d=\"M 0 70.347393 \r\nL 349.2 70.347393 \r\nL 349.2 0 \r\nL 0 0 \r\nz\r\n\" style=\"fill:none;\"/>\r\n  </g>\r\n  <g id=\"axes_1\">\r\n   <g clip-path=\"url(#paad634bec5)\">\r\n    <image height=\"41\" id=\"image2c3cd9033a\" transform=\"scale(1 -1)translate(0 -41)\" width=\"41\" x=\"7.2\" xlink:href=\"data:image/png;base64,\r\niVBORw0KGgoAAAANSUhEUgAAACkAAAApCAYAAACoYAD2AAAABHNCSVQICAgIfAhkiAAAAyVJREFUWIXtmF1IU2EYx3/HHXWuTNNVGpEtLTUtBUdpiQV9eSGCVFgXBUZFiUlldBGBFUVKHxBRBkJYIGQWQdDHnYkXVopRaB+SZqTZQsVlKk7PThdHl9JObW5lM/+Xz/u+z/nt/b9fz4R1wmaZf1xeEw3giKYg3SVRraGxaDmN6UU/xS93h3OxcgMAgiQQdeo9AJLpyx9C9JCZFNR2t2WjEcvBLgCORjxgg1+v3QQmqR+AlHt5RB17g9Rt/nuQoyWGhtB1bRoA+wyVbPM32e2X05ZMXVE8APrb9Vh7etwC6dl2q0lcMB9zQigAmScfsTew2W6/vPZEqq8YAQgqeQZW6e9BjpZoCKMpay4AxzNvsml6h91+R01GKi8mAjDzerXT35mcdqsmMsbSmOtD8arrAKRoLWPaB+RBALa+y2BwTfvEQI7Imqzs7qYtWmLjWwC4E3Hf1l7YGUNV/LThzo6t0//L7l/pVms1OsEHgD7ZQtr+AwDo7j51aLzq3e2qNHNm8ykzAgCtUGOL725JcxhuRB5ht9tnUl6lbBxdQSs1Cy8NR72IqtgFQOQJM9DpVE63QnbtTKI0/xwABlFri8fcyCGqWDl2hppbnM77f9ntFRfNzfyzNFhmA5BRm4H8PAAAw+lqhuTxHyIuQ2oCFZCgonbmi35sP7IDgHllT1xNbZPLkK8LFwPQGHaVrA9r8S+v+c0I5+URa3JckBp9MBp9MAgC3jMseM9QHhMNpUuU+9iFt6M9OW13V1YSX1OVekfzMpKGlEu2tvQ9ldSU6gGQus3ISXEAtOSCYduLcUN6hN0OPzDE0BAAMitqVQsxUMoGgOZvekrCbwNgtspkhyWPG9JhuwcilTIhQfsR8FHtdz509NGj3Do6QcKUu1L5YO+POfFvG8K3QymJ5dp61ZyTy+4RaaIXIft6A/BpdSD9icomCgropSquTHXcwz5/AAqbUnm8tByA1qF+CkzrAXh1ZpnqE859NY4oopmlHxN7e3gBAJLOSli48l+RLlvg8wVludQZy+iQlB+5ojyPiEP2b6nJafdEyCNmcgrSXZqCdJc8AvI7GgTtmmIOm5QAAAAASUVORK5CYII=\" y=\"-22.147393\"/>\r\n   </g>\r\n   <g id=\"text_1\">\r\n    <!-- 5 -->\r\n    <defs>\r\n     <path d=\"M 10.796875 72.90625 \r\nL 49.515625 72.90625 \r\nL 49.515625 64.59375 \r\nL 19.828125 64.59375 \r\nL 19.828125 46.734375 \r\nQ 21.96875 47.46875 24.109375 47.828125 \r\nQ 26.265625 48.1875 28.421875 48.1875 \r\nQ 40.625 48.1875 47.75 41.5 \r\nQ 54.890625 34.8125 54.890625 23.390625 \r\nQ 54.890625 11.625 47.5625 5.09375 \r\nQ 40.234375 -1.421875 26.90625 -1.421875 \r\nQ 22.3125 -1.421875 17.546875 -0.640625 \r\nQ 12.796875 0.140625 7.71875 1.703125 \r\nL 7.71875 11.625 \r\nQ 12.109375 9.234375 16.796875 8.0625 \r\nQ 21.484375 6.890625 26.703125 6.890625 \r\nQ 35.15625 6.890625 40.078125 11.328125 \r\nQ 45.015625 15.765625 45.015625 23.390625 \r\nQ 45.015625 31 40.078125 35.4375 \r\nQ 35.15625 39.890625 26.703125 39.890625 \r\nQ 22.75 39.890625 18.8125 39.015625 \r\nQ 14.890625 38.140625 10.796875 36.28125 \r\nz\r\n\" id=\"DejaVuSans-53\"/>\r\n    </defs>\r\n    <g transform=\"translate(23.797134 16.318125)scale(0.12 -0.12)\">\r\n     <use xlink:href=\"#DejaVuSans-53\"/>\r\n    </g>\r\n   </g>\r\n  </g>\r\n  <g id=\"axes_2\">\r\n   <g clip-path=\"url(#pa0dc8aae47)\">\r\n    <image height=\"41\" id=\"image2eefd89436\" transform=\"scale(1 -1)translate(0 -41)\" width=\"41\" x=\"56.195122\" xlink:href=\"data:image/png;base64,\r\niVBORw0KGgoAAAANSUhEUgAAACkAAAApCAYAAACoYAD2AAAABHNCSVQICAgIfAhkiAAAA7hJREFUWIXtl39MlHUcx193x3GcTg3Puet08isOKbc8gQZzDQeFNF21cgpbXZFON9CRbbL+kbXWmM0iSY+aP3LonG79XH8klMiulbBDpELwRLvp1JllOYI9cNzd9+mPpx5RhHtuHhQX73+e7fN8vt/Pa9/P9/P5PI/uCd0amf+49P82gBZNQ0ZL05DRUpxmx9RkALxbrPSs3Q2AHj0CAcDir8rJqJeQO7ujDqnT0oIM9jTsRy8D8La1VbWPhATo9OspdW8EwF7WETXI2En3jRXz+dx6bJT926F4LvitAJTNuYTDJPAWfQjA1vbHaTy1FID0yraJhxypITmI48RmANIOCoy/9AOwL/9p5q67ypZFzQDU2b7ny6d6AKhJLWa2aw4A8Y3tEUPGTrrRKUUC4B60kP7y7aII/f2cd/4i7AUXdgCq3szjU2ctAG3LjrJs04sA2BonClJGreLK70qxE75yk6pbebW5HICbrw1y+rEGAAob1zGz2BcRZAyle4TeWf4xe0nV5Kt3dwJgbZ9B5g6l2M49v4emC0oR7djuZNax8JUfMaTFMKBOn6DvkqY1QpLIeL0LgMVxFfQ+8wEAhyouIjUlAhC6dWvM9VMi3Zog4wahTwzTJ4bJS/Djc9rwOW0RBRKShJAk7OUe1XYk9TjeuhS8dSnjx9cS4IHDrbxVuQKAdx9sI6tIadK/vRERpyqjzgBAQIbiTGWvn8fxnxLp1lw4P21X5rDYf4oDSd8A8OSzFZi/8Iy37J4KyMoIEAhCsi6sv+aTNLu7Mbu7We19TrXtr3uP/pJc+ktyiVtgw2BPixhYizSfpJAkAAxVKeRWKyPOk32E2hoXACcHHuaz3QVYese7XaPluZ4EwHy8Y/rE1p38R3JHN/NqHQD0NgzjMClbOExncZekY/hEac5/rMrg9yXKfbO7rhC8cnXUXjdCfiy7ZoSNqen3YSwFC7J4/6M9CogxHoCyy4UAnD6RSdd65V3LYAI7y14AoC8tAU+NMnFyzqxl7uresHFiM913LD7ZQekPrwDQnnMIQG1P+vXN6uddvlliW7YZgEfWnLvdgjTm8L5PcqHzGgud1yjaVMFxKfGePtW/5mAckDEOyBxM/lq1/9ljmRzIydB9Fc7dChRlU1V/GIBCs6Sm2xcI0CdMADhMgpUblC92c0sXYmhociEBRL7SnnY11POQcfSVPx8IsS05N6I9/3/pHqlgQRbXy/0A/JjXwKOtLwFgc8VjaDkT0V4TBhlNTYl0T0NGS9OQ0dJfUCwsCNt0LoQAAAAASUVORK5CYII=\" y=\"-22.147393\"/>\r\n   </g>\r\n   <g id=\"text_2\">\r\n    <!-- 0 -->\r\n    <defs>\r\n     <path d=\"M 31.78125 66.40625 \r\nQ 24.171875 66.40625 20.328125 58.90625 \r\nQ 16.5 51.421875 16.5 36.375 \r\nQ 16.5 21.390625 20.328125 13.890625 \r\nQ 24.171875 6.390625 31.78125 6.390625 \r\nQ 39.453125 6.390625 43.28125 13.890625 \r\nQ 47.125 21.390625 47.125 36.375 \r\nQ 47.125 51.421875 43.28125 58.90625 \r\nQ 39.453125 66.40625 31.78125 66.40625 \r\nz\r\nM 31.78125 74.21875 \r\nQ 44.046875 74.21875 50.515625 64.515625 \r\nQ 56.984375 54.828125 56.984375 36.375 \r\nQ 56.984375 17.96875 50.515625 8.265625 \r\nQ 44.046875 -1.421875 31.78125 -1.421875 \r\nQ 19.53125 -1.421875 13.0625 8.265625 \r\nQ 6.59375 17.96875 6.59375 36.375 \r\nQ 6.59375 54.828125 13.0625 64.515625 \r\nQ 19.53125 74.21875 31.78125 74.21875 \r\nz\r\n\" id=\"DejaVuSans-48\"/>\r\n    </defs>\r\n    <g transform=\"translate(72.792256 16.318125)scale(0.12 -0.12)\">\r\n     <use xlink:href=\"#DejaVuSans-48\"/>\r\n    </g>\r\n   </g>\r\n  </g>\r\n  <g id=\"axes_3\">\r\n   <g clip-path=\"url(#p446bae2728)\">\r\n    <image height=\"41\" id=\"imageff6abc3f93\" transform=\"scale(1 -1)translate(0 -41)\" width=\"41\" x=\"105.190244\" xlink:href=\"data:image/png;base64,\r\niVBORw0KGgoAAAANSUhEUgAAACkAAAApCAYAAACoYAD2AAAABHNCSVQICAgIfAhkiAAAAo5JREFUWIXtmG9IE2Ecxz93q80tCnVTyhwmQizoLzTCUZSwXktUvgxKKao3SS96Jb0o6q0vfGMvo3qTgeUwiYx0RdDKFTGKMNPpwrmSEnThdq4XZ8s1z92ta3Ww76vj7vne87nf93c895zgFY6k+M8l/msANSpC6qWCQE62euiNDNEbGWLk1k7NfkNUclUhJrF4Y5iE/OtREEgAKbWQt9cQcRcc0hawafYULO50T+aRuiHiLviLU/Y+odlriEoWIZfTWKOg2aPYkx+v1uN0R1Y0x+5XYw/JPWbuCyiOmxusgMUl+3LDHa7j1ARpiLizKjl8YxcA7xo6eJuQq3RvJvPL5YI9BIC4RSCemgfgkyTRETtAz+sdAJQGzWx4EAWguv0lgVPyBqBxTURzJbMgLSUymIjA8SutADiuPcsYM7CvBYCUSWDcawFgviqBaJZ46G0HYPVBmDwvX2sbOUSFKS6fFywI7m2yP/BGFaQx414q6/Tya5joD6aPNz3OvHaGvQCYHHaihzcDUN40QbkoLk5oIrpnLQCVyu+aesip3fKNa7vU3WyppM9fcHQutkkn7O9uBiDovsnps90AdN/eihSd0g6ZHJafknoocX3VTqcg57lZAJ4+EmleNyFDlnpABaQhejILssYXp8YXZ0qa03Wi5GiY5GiYrml3+ly8tkyVNytu8ckrAPzfN+qEl6nRWXv6eNxroq4vt8eYcf9UIvV3PjWTLb+2D9a6GVUeRZKLvqPY6r79OdVvkj6M4Ro4AcDJ7X763R5g5dXHEHErVrJqcIF4qFT/GRckhLAVgP71Lkjl/vOoCGm9+xyrfmgZqnwhL7dtTT1c4ljO8YaIWyj+6dVJRUi9VITUS4aA/AEly6zD3YudYQAAAABJRU5ErkJggg==\" y=\"-22.147393\"/>\r\n   </g>\r\n   <g id=\"text_3\">\r\n    <!-- 4 -->\r\n    <defs>\r\n     <path d=\"M 37.796875 64.3125 \r\nL 12.890625 25.390625 \r\nL 37.796875 25.390625 \r\nz\r\nM 35.203125 72.90625 \r\nL 47.609375 72.90625 \r\nL 47.609375 25.390625 \r\nL 58.015625 25.390625 \r\nL 58.015625 17.1875 \r\nL 47.609375 17.1875 \r\nL 47.609375 0 \r\nL 37.796875 0 \r\nL 37.796875 17.1875 \r\nL 4.890625 17.1875 \r\nL 4.890625 26.703125 \r\nz\r\n\" id=\"DejaVuSans-52\"/>\r\n    </defs>\r\n    <g transform=\"translate(121.787378 16.318125)scale(0.12 -0.12)\">\r\n     <use xlink:href=\"#DejaVuSans-52\"/>\r\n    </g>\r\n   </g>\r\n  </g>\r\n  <g id=\"axes_4\">\r\n   <g clip-path=\"url(#p44e577f4bf)\">\r\n    <image height=\"41\" id=\"image67b5ab07e5\" transform=\"scale(1 -1)translate(0 -41)\" width=\"41\" x=\"154.185366\" xlink:href=\"data:image/png;base64,\r\niVBORw0KGgoAAAANSUhEUgAAACkAAAApCAYAAACoYAD2AAAABHNCSVQICAgIfAhkiAAAAmpJREFUWIXtll1IU3EUwH93dwtzviydrNqHFSS0kvYg6F4cmNhLn4yo3qynohKsoAcfeuqxIHpYIoRhRVlgvUlEjaRaRIFNxdGHTIf10IgIm7v76OHqxYWg271Or+0H9+H/h3P4cc4991xhj+DPssoxrLTAUihJaoUx74AtLmz3fgAQcAR58LsagNu1Dm3N5rE2K/lrt40+e9/sSdRYZ2F0Ucm1KVkWTzKYMDOYMAPQWh6ltTxKpKseg9msuSCAUMjGmXi4E4ARby9SNq3cH2g5Rnokop3dLLpod97TDeDwhwGQYumcSk75qqhebZX8kMzknBvb3iNaLIgWiyqpf9FFuwsanDkyTR5OdvUDsN/8HYCW8FEAKvZ+0UBPRpUkwOc7HgCGmm7m3B8+eILsu7Ca1Aq6aHdB0z2f7VemATD5cvd49BI4/Gqzy6iuZHp4jPTwGN7OM3xNJZCy8mep0T6OscaJsca58pLFQDPJDbdecyhwUTkHHEFMPTOYemYQrVZVuVVP93xEdy31d+WJ7qwaUrZR3f1zbDv/puC8mkoCGO2bAegPPVEkRyVov3AWAPOjUN45/693co7UZIzUZAz3yzZMgohJEKlbJ+LsiODsKOznY9kqubG3jOd/5EfKpul2DdDtGuBbuzfvXLpot7hV2HF5ORIbIzGeTu0j+MxDQ3OISlEAIOX+yfiLXRislQjTCbKStGguzad7IT5dbeDjkevK2STIK7T59CnWP367aLwu2l0UyYoJA/FMkngmWVC86r+gpWC79grfJnlljh6/obQbYWnxumh3UQZHLbqoZElSK0qSWqELyb9p6qxF5baHLgAAAABJRU5ErkJggg==\" y=\"-22.147393\"/>\r\n   </g>\r\n   <g id=\"text_4\">\r\n    <!-- 1 -->\r\n    <defs>\r\n     <path d=\"M 12.40625 8.296875 \r\nL 28.515625 8.296875 \r\nL 28.515625 63.921875 \r\nL 10.984375 60.40625 \r\nL 10.984375 69.390625 \r\nL 28.421875 72.90625 \r\nL 38.28125 72.90625 \r\nL 38.28125 8.296875 \r\nL 54.390625 8.296875 \r\nL 54.390625 0 \r\nL 12.40625 0 \r\nz\r\n\" id=\"DejaVuSans-49\"/>\r\n    </defs>\r\n    <g transform=\"translate(170.7825 16.318125)scale(0.12 -0.12)\">\r\n     <use xlink:href=\"#DejaVuSans-49\"/>\r\n    </g>\r\n   </g>\r\n  </g>\r\n  <g id=\"axes_5\">\r\n   <g clip-path=\"url(#p89ad38aa0c)\">\r\n    <image height=\"41\" id=\"imagecdd851e4a7\" transform=\"scale(1 -1)translate(0 -41)\" width=\"41\" x=\"203.180488\" xlink:href=\"data:image/png;base64,\r\niVBORw0KGgoAAAANSUhEUgAAACkAAAApCAYAAACoYAD2AAAABHNCSVQICAgIfAhkiAAAAvtJREFUWIXtl1lIFHEcxz8zs+7qim0eKHSYhV1gZrLgESLJqi8dZEpWVEpQRiYKEko9dTxlhImiEHlAEJREQg92QU95URaU1lZeiYkamqG7rrvbw+SqPa27o7TpFwZm/vzmO5//7/ufSzAI6Xb+cYmLZSwFBWKsjcZYG01DfyvERsqbC1o0SCWlUtpQCgoEQF2voiO8CoDEt0cI6OwBwOqCp+KQ/ce3AtASXkp2dwoAustarKNjLnsuz7gLzjxw7A9cCQdA3dTqlqeikPbdUWStagfAYhfRvh8AYNpN3+UXd3+iFotdvn9t2BTzVbSTuq/Kgc2VR8StKKTfvSYl7RxSFHI8M1ZJO4eWX9yqSRtegoSXICEi0pUVSldWqPu+zhZOpeoBKKmsIFItAVD3cy1XX+4HYEuNCb93g2T3JgBQuf4Fk2FTbgOCh8QtOPNlLoUEU/TqCQAxGgvin7n9/cB+NumHhGy3x+cXzWYvAK5tinIL0qm4BW8NMRqL4/iAIVMenzBhzFkHQIrhNQXBzwlV+fyZAOjVctyjJ+JYXffKZUiPiNupTtpNZtrM8s2i11iZvCV3SJ3cx8biPgCMxZAbdZqIOx0AXA1pQRIE+fzDw0gNOgCXPn6dWpMAX27ID+qOzHLGbCYAMjqP4p32AwDb+DgAoq8vACPpkTy6ch2AIMmHbffPARCev/C3ktOQMzKWxfAxrUIGw8b2pzkAbCvsxjo8Mq/24IchALJ13Y6xhIt5+NcsbH16xJpccCcBvhfEA9BSWOoYy/i8j+lDlnndHDwv1zUXzdY1TuioSkoCYLrv2+JBCl5qAEyGnVRX3gRgjUrDqZ5kekrkv0Xfx+2IWi0A4kNv6jc3yPuIRFTnAhB2ybnY/9+452ooJw6Asgvl6DVWx9voZLeBXbpeAPL8Ox31IiLxb44AELD309JAzmgqVU/PMRtno18CkO8/C7Dj9nm0A/JlRuPNbLgrT0Td2OaU9/KIeynkEZ1cgVRKK5BKaQVSKa1AKqXfdWna6lCvmEsAAAAASUVORK5CYII=\" y=\"-22.147393\"/>\r\n   </g>\r\n   <g id=\"text_5\">\r\n    <!-- 9 -->\r\n    <defs>\r\n     <path d=\"M 10.984375 1.515625 \r\nL 10.984375 10.5 \r\nQ 14.703125 8.734375 18.5 7.8125 \r\nQ 22.3125 6.890625 25.984375 6.890625 \r\nQ 35.75 6.890625 40.890625 13.453125 \r\nQ 46.046875 20.015625 46.78125 33.40625 \r\nQ 43.953125 29.203125 39.59375 26.953125 \r\nQ 35.25 24.703125 29.984375 24.703125 \r\nQ 19.046875 24.703125 12.671875 31.3125 \r\nQ 6.296875 37.9375 6.296875 49.421875 \r\nQ 6.296875 60.640625 12.9375 67.421875 \r\nQ 19.578125 74.21875 30.609375 74.21875 \r\nQ 43.265625 74.21875 49.921875 64.515625 \r\nQ 56.59375 54.828125 56.59375 36.375 \r\nQ 56.59375 19.140625 48.40625 8.859375 \r\nQ 40.234375 -1.421875 26.421875 -1.421875 \r\nQ 22.703125 -1.421875 18.890625 -0.6875 \r\nQ 15.09375 0.046875 10.984375 1.515625 \r\nz\r\nM 30.609375 32.421875 \r\nQ 37.25 32.421875 41.125 36.953125 \r\nQ 45.015625 41.5 45.015625 49.421875 \r\nQ 45.015625 57.28125 41.125 61.84375 \r\nQ 37.25 66.40625 30.609375 66.40625 \r\nQ 23.96875 66.40625 20.09375 61.84375 \r\nQ 16.21875 57.28125 16.21875 49.421875 \r\nQ 16.21875 41.5 20.09375 36.953125 \r\nQ 23.96875 32.421875 30.609375 32.421875 \r\nz\r\n\" id=\"DejaVuSans-57\"/>\r\n    </defs>\r\n    <g transform=\"translate(219.777622 16.318125)scale(0.12 -0.12)\">\r\n     <use xlink:href=\"#DejaVuSans-57\"/>\r\n    </g>\r\n   </g>\r\n  </g>\r\n  <g id=\"axes_6\">\r\n   <g clip-path=\"url(#p9411bb032c)\">\r\n    <image height=\"41\" id=\"imagecfb45425a0\" transform=\"scale(1 -1)translate(0 -41)\" width=\"41\" x=\"252.17561\" xlink:href=\"data:image/png;base64,\r\niVBORw0KGgoAAAANSUhEUgAAACkAAAApCAYAAACoYAD2AAAABHNCSVQICAgIfAhkiAAAA4dJREFUWIXtlmtIk1EYx3/z3ZparcvKSymZqSyWiEZFU7rQ7Utl5Ei6QQXRPRBLkCCoIOpL0ZUuEN2tMLOyICIMgsKsRMraygq1xKklhqVze7c+HHkzsDVtZjP/X95znnN5fpznec9zVDNVZjf/uAJ6GsAb9UH6Sn2QvpJfQKo9DUr6oQBULzXQmNAqFtRpiDv2EQBXTS2ulpZuRuwNJ2kqrAZgq/7OzwPLxWeuZSGVjyIAiM5txF1WjtvR+nchpwywKO3Psh2AYw2TGNmvAYACQx4Y2iasBOPFzcRkFwPgdjp9BukX4VZ5qt0fsk0APNt4gGqnOMm0PVsJz38PwOfpUbiX1QOQO+40wyUtxkubAIg7UY9sLffovHa9iVBzxQ9D5mAA3CVl3kOq1CIbrIeSsMw/IsCdduYfzwIg6tRbnDU2ABwzx5O4t4TdYUUAnPkyinPb5gEQnFeENEwPQMOsWL6mNwJwLfEkEWqt4q/gq5hzIi76Jw7/D7cySavFuj8BAEvqEcWeal1AwGIHALKtFnVkBAk3KgHYEVJCo0vcoZOuZhJuqAXgXvxlZX16+VzqD0YBEPjJodil+886DwkQEBgIwKf0RB7sPqjYjTkiByMKZbS3ilGHhwGQfOc9mfoXHe41eddmAELPluL69u33vr0B7Gl5fZLKAq2W1qnxAGQdPcf0oCYAbLIdS+sQtr9OBSDHeJoR7X6KIrsGgNU564jeVQLgdUntNGR7STodLRNjAdBk2ygwXFfGNCoJh1tW+oXNIl32p5lxlb7qlJ/eGW5Pqtxuwhnctp0KaGsunPOInSGiXG78MI2qZFEYvC2dPoX8lSquxFOafErpz16zAYDAgsderff4wPiVpJjRAFg3hBJ5V+Rd/7IanBVVHc7XFA+E5K54EvKLnOzSSXJS5NTLuEOwSJhym8LY93oGoVkie+RXb5TpwbY/y6guQX68ESUaW37YzANqMCdd4HxeJABXF6Qor6Ahz7/8EWTvDffI8yKUxgmruWk6CkC0RlSUZTrx88j5D8lPSwHA1ROQcl0dAGOW1JExYQ0A5RkS91MOM1wSpXClroqQ67cBeGcPUdY+sUsE2ZoB5Rr9rfwi3D69zAPGGXiTHQTAqviHHT7Vxt5dS+yKp53at9sqjqQfimqQDoDKtBG0DBNuYnZ494Zsr/8v3N0lvzjJPkhfqQ/SV/ILyO/i/R/TqI6zsgAAAABJRU5ErkJggg==\" y=\"-22.147393\"/>\r\n   </g>\r\n   <g id=\"text_6\">\r\n    <!-- 2 -->\r\n    <defs>\r\n     <path d=\"M 19.1875 8.296875 \r\nL 53.609375 8.296875 \r\nL 53.609375 0 \r\nL 7.328125 0 \r\nL 7.328125 8.296875 \r\nQ 12.9375 14.109375 22.625 23.890625 \r\nQ 32.328125 33.6875 34.8125 36.53125 \r\nQ 39.546875 41.84375 41.421875 45.53125 \r\nQ 43.3125 49.21875 43.3125 52.78125 \r\nQ 43.3125 58.59375 39.234375 62.25 \r\nQ 35.15625 65.921875 28.609375 65.921875 \r\nQ 23.96875 65.921875 18.8125 64.3125 \r\nQ 13.671875 62.703125 7.8125 59.421875 \r\nL 7.8125 69.390625 \r\nQ 13.765625 71.78125 18.9375 73 \r\nQ 24.125 74.21875 28.421875 74.21875 \r\nQ 39.75 74.21875 46.484375 68.546875 \r\nQ 53.21875 62.890625 53.21875 53.421875 \r\nQ 53.21875 48.921875 51.53125 44.890625 \r\nQ 49.859375 40.875 45.40625 35.40625 \r\nQ 44.1875 33.984375 37.640625 27.21875 \r\nQ 31.109375 20.453125 19.1875 8.296875 \r\nz\r\n\" id=\"DejaVuSans-50\"/>\r\n    </defs>\r\n    <g transform=\"translate(268.772744 16.318125)scale(0.12 -0.12)\">\r\n     <use xlink:href=\"#DejaVuSans-50\"/>\r\n    </g>\r\n   </g>\r\n  </g>\r\n  <g id=\"axes_7\">\r\n   <g clip-path=\"url(#pc89354ddf7)\">\r\n    <image height=\"41\" id=\"image553665a0c4\" transform=\"scale(1 -1)translate(0 -41)\" width=\"41\" x=\"301.170732\" xlink:href=\"data:image/png;base64,\r\niVBORw0KGgoAAAANSUhEUgAAACkAAAApCAYAAACoYAD2AAAABHNCSVQICAgIfAhkiAAAAYdJREFUWIXtmDFLQlEYhp/rTZpCa5CgKIQ6QxE0RtASQhBUSxBBg1uD0D9oa4ygxqihJaihMdoaAmmwQSEtKRpaUsQgkSi52iCKkkJ1vqjLvc94hvc8nPd8h8s1QsZihX+O568FvoIrKYUrKUWHdKA5ogAIHceIdN8C4MHD/OwKAOV46tuZ4pLP4z0AdUEJnFl3Z/hJOlJeMjwQBar3sIbXMLUynVf34/oky13bAJQb1oNnq6h47Me5oif5pl4l4+rYom5RyZvpvZbravddK1f0TnoNk1LD1+lUfAkA32VCK9cWdYueZKliUW6Y65doAAAfd1q5tjhJV1KKX51uKX51cKSwRd1ikvebE1JRn9Cu2xwKArAxd9S0Pnq4hjrJAWBp7uGQugtFKBQ5zY81LQeuKljJNFYyrb2FtqSVyWJlslyklLZMO2xRt/7g+H0ADPbntGXaof+Y9/UCsKMOAK92XCucUbd1Xf2dsnAe4WFmn638MAD+RF77faxhuL+jhXAlpXAlpfgAcpBYV/kTPdAAAAAASUVORK5CYII=\" y=\"-22.147393\"/>\r\n   </g>\r\n   <g id=\"text_7\">\r\n    <!-- 1 -->\r\n    <g transform=\"translate(317.767866 16.318125)scale(0.12 -0.12)\">\r\n     <use xlink:href=\"#DejaVuSans-49\"/>\r\n    </g>\r\n   </g>\r\n  </g>\r\n </g>\r\n <defs>\r\n  <clipPath id=\"paad634bec5\">\r\n   <rect height=\"40.829268\" width=\"40.829268\" x=\"7.2\" y=\"22.318125\"/>\r\n  </clipPath>\r\n  <clipPath id=\"pa0dc8aae47\">\r\n   <rect height=\"40.829268\" width=\"40.829268\" x=\"56.195122\" y=\"22.318125\"/>\r\n  </clipPath>\r\n  <clipPath id=\"p446bae2728\">\r\n   <rect height=\"40.829268\" width=\"40.829268\" x=\"105.190244\" y=\"22.318125\"/>\r\n  </clipPath>\r\n  <clipPath id=\"p44e577f4bf\">\r\n   <rect height=\"40.829268\" width=\"40.829268\" x=\"154.185366\" y=\"22.318125\"/>\r\n  </clipPath>\r\n  <clipPath id=\"p89ad38aa0c\">\r\n   <rect height=\"40.829268\" width=\"40.829268\" x=\"203.180488\" y=\"22.318125\"/>\r\n  </clipPath>\r\n  <clipPath id=\"p9411bb032c\">\r\n   <rect height=\"40.829268\" width=\"40.829268\" x=\"252.17561\" y=\"22.318125\"/>\r\n  </clipPath>\r\n  <clipPath id=\"pc89354ddf7\">\r\n   <rect height=\"40.829268\" width=\"40.829268\" x=\"301.170732\" y=\"22.318125\"/>\r\n  </clipPath>\r\n </defs>\r\n</svg>\r\n",
      "image/png": "[encoded data removed]"
     },
     "metadata": {
      "needs_background": "light"
     }
    }
   ],
   "source": [
    "fig,ax = plt.subplots(1,7)\n",
    "for i in range(7):\n",
    "    ax[i].imshow(data_train[i][0].view(28,28))\n",
    "    ax[i].set_title(data_train[i][1])\n",
    "    ax[i].axis('off')"
   ]
  },
  {
   "source": [
    "## Dataset Structure\n",
    "\n",
    "We have a total of 6000 training images and 1000 testing images. Its important to split out the data for training and testing. We also want to do some data exploration to get a better idea of what our data looks like\n",
    "\n",
    "\n",
    "\n",
    "Each sample is a tuple in the following structure:\n",
    " * First element is a tensor of 1x28x28 size\n",
    " * Second element is a **label** that specifies which digit is represented by the tensor "
   ],
   "cell_type": "markdown",
   "metadata": {}
  },
  {
   "cell_type": "code",
   "execution_count": 30,
   "metadata": {},
   "outputs": [
    {
     "output_type": "stream",
     "name": "stdout",
     "text": [
      "Tensor size: torch.Size([1, 28, 28])\nFirst 10 digits are: [5, 0, 4, 1, 9, 2, 1, 3, 1, 4]\n"
     ]
    }
   ],
   "source": [
    "print('Training samples:',len(data_train))\n",
    "print('Test samples:',len(data_test))\n",
    "\n",
    "print('Tensor size:',data_train[0][0].size())\n",
    "print('First 10 digits are:', [data_train[i][1] for i in range(10)])"
   ]
  },
  {
   "source": [
    "All pixel intensities of the images are represented by floating-point values in between 0 and 1:"
   ],
   "cell_type": "markdown",
   "metadata": {}
  },
  {
   "cell_type": "code",
   "execution_count": 33,
   "metadata": {},
   "outputs": [
    {
     "output_type": "stream",
     "name": "stdout",
     "text": [
      "Min intensity value:  0.0\nMax intensity value:  1.0\n"
     ]
    }
   ],
   "source": [
    "print('Min intensity value: ',data_train[0][0].min().item())\n",
    "print('Max intensity value: ',data_train[0][0].max().item())"
   ]
  },
  {
   "source": [
    "If you are planning to load your own images, it is important to make sure that all values are scaled to the range [0,1] before we start training a neural network.\n",
    "\n",
    "We have loaded training and test datasets, and we are ready to start training our first neural network!"
   ],
   "cell_type": "markdown",
   "metadata": {}
  },
  {
   "source": [],
   "cell_type": "markdown",
   "metadata": {}
  }
 ]
}